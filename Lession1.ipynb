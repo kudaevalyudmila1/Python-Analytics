{
 "cells": [
  {
   "cell_type": "markdown",
   "metadata": {},
   "source": [
    "<!-- 1.1 Соедините два словаря в один -->"
   ]
  },
  {
   "cell_type": "code",
   "execution_count": null,
   "metadata": {},
   "outputs": [],
   "source": [
    "# Задача 1.\n",
    "# 1.1 Соедините два словаря в один\n",
    "# 1.2 Напишите функцию, которая на вход принимает два\n",
    "# словаря и возвращает один объединенный словарь"
   ]
  },
  {
   "cell_type": "code",
   "execution_count": 8,
   "metadata": {},
   "outputs": [
    {
     "data": {
      "text/plain": [
       "{'One': 1, 'Two': 2, 'Three': 3, 'Four': 4, 'Five': 5, 'Six': 6}"
      ]
     },
     "execution_count": 8,
     "metadata": {},
     "output_type": "execute_result"
    }
   ],
   "source": [
    "def join_dict(d1,d2):\n",
    "    # return {**d1,**d2}\n",
    "    d1.update(d2)\n",
    "    return d1\n",
    "dict1 = {'One':1,'Two': 2, 'Three':3}\n",
    "dict2 = {'Four':4,'Five':5, 'Six':6}\n",
    "join_dict(dict1,dict2)"
   ]
  },
  {
   "cell_type": "code",
   "execution_count": null,
   "metadata": {},
   "outputs": [],
   "source": [
    "# Задача 2.\n",
    "# 2.1 Напишите функцию, которая на вход принимает два\n",
    "# словаря и возвращает один объединенный словарь, используя цикл for\n",
    "\n",
    "# 2.2 Используя dict comprehensions"
   ]
  },
  {
   "cell_type": "code",
   "execution_count": 10,
   "metadata": {},
   "outputs": [
    {
     "data": {
      "text/plain": [
       "{'One': 1, 'Two': 2, 'Three': 3}"
      ]
     },
     "execution_count": 10,
     "metadata": {},
     "output_type": "execute_result"
    }
   ],
   "source": [
    "def join_dict(d1,d2):\n",
    "    d3 = {}\n",
    "    for i in range(len(d1)):\n",
    "       d3[d1[i]] = d2[i]\n",
    "    return d3\n",
    "keys = ['One','Two', 'Three']\n",
    "values= [1,2,3]\n",
    "join_dict(keys,values)"
   ]
  },
  {
   "cell_type": "code",
   "execution_count": null,
   "metadata": {},
   "outputs": [],
   "source": [
    "\n",
    "\n",
    "keys = ['One','Two', 'Three']\n",
    "values= [1,2,3]\n",
    "join_dict(keys,values)"
   ]
  }
 ],
 "metadata": {
  "kernelspec": {
   "display_name": "Python 3",
   "language": "python",
   "name": "python3"
  },
  "language_info": {
   "codemirror_mode": {
    "name": "ipython",
    "version": 3
   },
   "file_extension": ".py",
   "mimetype": "text/x-python",
   "name": "python",
   "nbconvert_exporter": "python",
   "pygments_lexer": "ipython3",
   "version": "3.11.3"
  },
  "orig_nbformat": 4
 },
 "nbformat": 4,
 "nbformat_minor": 2
}
